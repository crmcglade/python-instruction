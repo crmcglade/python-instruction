{
 "cells": [
  {
   "cell_type": "markdown",
   "id": "57f78b12",
   "metadata": {},
   "source": [
    "# How to combine bunch of different datasets containing the same variables"
   ]
  },
  {
   "cell_type": "code",
   "execution_count": 77,
   "id": "7ab9a075",
   "metadata": {},
   "outputs": [],
   "source": [
    "import pandas as pd\n",
    "import csv\n",
    "KG2020 = pd.read_csv('KG 2020.csv')\n",
    "KG2019 = pd.read_csv('KG 2019.csv')\n",
    "KG2018 = pd.read_csv('KG 2018.csv')\n",
    "KG2017 = pd.read_csv('KG 2017.csv')\n",
    "KG2016 = pd.read_csv('KG 2016.csv')"
   ]
  },
  {
   "cell_type": "code",
   "execution_count": 78,
   "id": "21995e21",
   "metadata": {},
   "outputs": [],
   "source": [
    "pd.set_option('display.max_columns', None)"
   ]
  },
  {
   "cell_type": "markdown",
   "id": "50db0c15",
   "metadata": {},
   "source": [
    "# First, check to see how many columns you have in each. \n",
    "You'll notice that one of them has two extra columns. "
   ]
  },
  {
   "cell_type": "code",
   "execution_count": 79,
   "id": "86209edd",
   "metadata": {},
   "outputs": [
    {
     "data": {
      "text/plain": [
       "(1371, 29)"
      ]
     },
     "execution_count": 79,
     "metadata": {},
     "output_type": "execute_result"
    }
   ],
   "source": [
    "KG2016.shape"
   ]
  },
  {
   "cell_type": "markdown",
   "id": "1dbe2aa0",
   "metadata": {},
   "source": [
    "# Let's take a look at the column headers to see what's going on. \n",
    "There are so many columns here, and the names are so rough, that it's hard to tell what columns are extra in the dataframe with 29 columns. Never fear, there's a proactive way to handle this. This is a good example for deciding what columns you want, and disregarding the ones you don't.\n",
    "\n",
    "Let's say we just want the School, School Type, Zip, County, Enrolled Students and the Percent Immunized for MMR. (Measles, Mumps and Rubella)\n",
    "\n",
    "Below, create a dataframe that is only those columns from KG2020."
   ]
  },
  {
   "cell_type": "code",
   "execution_count": 80,
   "id": "08d50bb4",
   "metadata": {},
   "outputs": [],
   "source": [
    "KG2020 = KG2020[['SCHOOL NAME', 'COUNTY', 'ZIP', 'SCHOOL TYPE', 'ENROLLED', '% IMMUNE MMR']].copy()"
   ]
  },
  {
   "cell_type": "markdown",
   "id": "61e538cd",
   "metadata": {},
   "source": [
    "Now try it with 2019. "
   ]
  },
  {
   "cell_type": "code",
   "execution_count": 81,
   "id": "bb29c724",
   "metadata": {},
   "outputs": [],
   "source": [
    "KG2019 = KG2019[['SCHOOL NAME', 'COUNTY', 'ZIP', 'SCHOOL TYPE', 'ENROLLED', '% IMMUNE MMR']].copy()"
   ]
  },
  {
   "cell_type": "markdown",
   "id": "1e9fbec4",
   "metadata": {},
   "source": [
    "# Notice a problem?\n",
    "When we stack these dataframes into one, we won't know what year each row is from. \n",
    "\n",
    "Let's fix that. \n",
    "\n",
    "Add a 'year' column to each of your dataframes indicating to what year it belongs. \n",
    "\n",
    "Hint: df['YEAR'] = 'WHATEVER YEAR IT IS'"
   ]
  },
  {
   "cell_type": "code",
   "execution_count": 82,
   "id": "a9b7e6a9",
   "metadata": {},
   "outputs": [],
   "source": [
    "KG2020['YEAR'] = '2020'\n",
    "KG2019['YEAR'] = '2019'\n",
    "KG2018['YEAR'] = '2018'\n",
    "KG2017['YEAR'] = '2017'\n",
    "KG2016['YEAR'] = '2016'"
   ]
  },
  {
   "cell_type": "markdown",
   "id": "1a0935d2",
   "metadata": {},
   "source": [
    "Now that you've added a year to each dataframe, go ahead and keep creating new dataframes for each one that consists of only the variables we chose: School, School Type, Zip, County, Enrolled Students and the Percent Immunized for MMR.\n",
    "\n",
    "Keep in mind that the column headers may not be called the same thing in each dataframe, and you may have to run df.keys() on each to make sure you're calling for the right things. \n",
    "\n",
    "Hint: for 2016, it will be:\n",
    "\n",
    "df2016 = KG2016[['YEAR', 'SCHOOL_NAME', 'SCHOOL_TYPE', 'ZIP', 'COUNTY', 'ENROLLED', 'PCT_IMMUNE_MMR']]\n",
    "\n",
    "*Note the year field is the one that you created"
   ]
  },
  {
   "cell_type": "code",
   "execution_count": 84,
   "id": "22e70512",
   "metadata": {},
   "outputs": [],
   "source": [
    "KG2020 = KG2020[['YEAR', 'SCHOOL NAME', 'COUNTY', 'ZIP', 'SCHOOL TYPE', 'ENROLLED', '% IMMUNE MMR']]\n",
    "KG2019 = KG2019[['YEAR', 'SCHOOL NAME', 'COUNTY', 'ZIP', 'SCHOOL TYPE', 'ENROLLED', '% IMMUNE MMR']]\n",
    "KG2018 = KG2018[['YEAR', 'SCHOOL NAME', 'COUNTY', 'ZIP', 'SCHOOL TYPE', 'ENROLLED', '% IMMUNE MMR']]\n",
    "KG2017 = KG2017[['YEAR', 'SCHOOL NAME', 'COUNTY', 'ZIP', 'SCHOOLTYPE', 'ENROLLEDCOUNT', 'PCT_IMMUNE_MMR']]\n",
    "KG2016 = KG2016[['YEAR', 'SCHOOL_NAME', 'COUNTY', 'ZIP', 'SCHOOL_TYPE', 'ENROLLED', 'PCT_IMMUNE_MMR']]"
   ]
  },
  {
   "cell_type": "code",
   "execution_count": 85,
   "id": "1c9483b0",
   "metadata": {},
   "outputs": [
    {
     "data": {
      "text/html": [
       "<div>\n",
       "<style scoped>\n",
       "    .dataframe tbody tr th:only-of-type {\n",
       "        vertical-align: middle;\n",
       "    }\n",
       "\n",
       "    .dataframe tbody tr th {\n",
       "        vertical-align: top;\n",
       "    }\n",
       "\n",
       "    .dataframe thead th {\n",
       "        text-align: right;\n",
       "    }\n",
       "</style>\n",
       "<table border=\"1\" class=\"dataframe\">\n",
       "  <thead>\n",
       "    <tr style=\"text-align: right;\">\n",
       "      <th></th>\n",
       "      <th>YEAR</th>\n",
       "      <th>SCHOOL NAME</th>\n",
       "      <th>COUNTY</th>\n",
       "      <th>ZIP</th>\n",
       "      <th>SCHOOL TYPE</th>\n",
       "      <th>ENROLLED</th>\n",
       "      <th>% IMMUNE MMR</th>\n",
       "    </tr>\n",
       "  </thead>\n",
       "  <tbody>\n",
       "    <tr>\n",
       "      <th>0</th>\n",
       "      <td>2019</td>\n",
       "      <td>91ST PSALM CHRISTIAN SCHOOL</td>\n",
       "      <td>MARICOPA</td>\n",
       "      <td>85042.0</td>\n",
       "      <td>PRIVATE</td>\n",
       "      <td>&lt; 20</td>\n",
       "      <td>NaN</td>\n",
       "    </tr>\n",
       "    <tr>\n",
       "      <th>1</th>\n",
       "      <td>2019</td>\n",
       "      <td>A J MITCHELL ELEMENTARY SCHOOL</td>\n",
       "      <td>SANTA CRUZ</td>\n",
       "      <td>85621.0</td>\n",
       "      <td>PUBLIC</td>\n",
       "      <td>49</td>\n",
       "      <td>98.0%</td>\n",
       "    </tr>\n",
       "    <tr>\n",
       "      <th>2</th>\n",
       "      <td>2019</td>\n",
       "      <td>ABIA JUDD ELEMENTARY SCHOOL</td>\n",
       "      <td>YAVAPAI</td>\n",
       "      <td>86305.0</td>\n",
       "      <td>PUBLIC</td>\n",
       "      <td>117</td>\n",
       "      <td>82.1%</td>\n",
       "    </tr>\n",
       "    <tr>\n",
       "      <th>3</th>\n",
       "      <td>2019</td>\n",
       "      <td>ABRAHAM LINCOLN TRADITIONAL SCHOOL</td>\n",
       "      <td>MARICOPA</td>\n",
       "      <td>85051.0</td>\n",
       "      <td>PUBLIC</td>\n",
       "      <td>49</td>\n",
       "      <td>91.8%</td>\n",
       "    </tr>\n",
       "    <tr>\n",
       "      <th>4</th>\n",
       "      <td>2019</td>\n",
       "      <td>ACACIA ELEMENTARY SCHOOL</td>\n",
       "      <td>MARICOPA</td>\n",
       "      <td>85053.0</td>\n",
       "      <td>PUBLIC</td>\n",
       "      <td>125</td>\n",
       "      <td>96.0%</td>\n",
       "    </tr>\n",
       "  </tbody>\n",
       "</table>\n",
       "</div>"
      ],
      "text/plain": [
       "   YEAR                         SCHOOL NAME      COUNTY      ZIP SCHOOL TYPE  \\\n",
       "0  2019         91ST PSALM CHRISTIAN SCHOOL    MARICOPA  85042.0     PRIVATE   \n",
       "1  2019      A J MITCHELL ELEMENTARY SCHOOL  SANTA CRUZ  85621.0      PUBLIC   \n",
       "2  2019         ABIA JUDD ELEMENTARY SCHOOL     YAVAPAI  86305.0      PUBLIC   \n",
       "3  2019  ABRAHAM LINCOLN TRADITIONAL SCHOOL    MARICOPA  85051.0      PUBLIC   \n",
       "4  2019            ACACIA ELEMENTARY SCHOOL    MARICOPA  85053.0      PUBLIC   \n",
       "\n",
       "  ENROLLED % IMMUNE MMR  \n",
       "0     < 20          NaN  \n",
       "1       49        98.0%  \n",
       "2      117        82.1%  \n",
       "3       49        91.8%  \n",
       "4      125        96.0%  "
      ]
     },
     "execution_count": 85,
     "metadata": {},
     "output_type": "execute_result"
    }
   ],
   "source": [
    "KG2019.head()"
   ]
  },
  {
   "cell_type": "markdown",
   "id": "5d3c6429",
   "metadata": {},
   "source": [
    "# Now let's rename our columns, so they are the same in each dataset. \n",
    "You only have to write the names out once, and then pretty much copy and paste. Do this for each of your five dataframes. \n",
    "\n",
    "Hint: \n",
    "\n",
    "df2016.columns = ['year', 'school', 'county', 'zip', 'school_type', 'enrolled', 'vaccinated']"
   ]
  },
  {
   "cell_type": "code",
   "execution_count": 86,
   "id": "4303694e",
   "metadata": {},
   "outputs": [],
   "source": [
    "KG2020.columns = ['year', 'school', 'county', 'zip', 'school_type', 'enrolled', 'vaccinated']\n",
    "KG2019.columns = ['year', 'school', 'county', 'zip', 'school_type', 'enrolled', 'vaccinated']\n",
    "KG2018.columns = ['year', 'school', 'county', 'zip', 'school_type', 'enrolled', 'vaccinated']\n",
    "KG2017.columns = ['year', 'school', 'county', 'zip', 'school_type', 'enrolled', 'vaccinated']\n",
    "KG2016.columns = ['year', 'school', 'county', 'zip', 'school_type', 'enrolled', 'vaccinated']"
   ]
  },
  {
   "cell_type": "markdown",
   "id": "ce09a212",
   "metadata": {},
   "source": [
    "# And finally, concat!\n",
    "This will look something like this: \n",
    "\n",
    "df = pd.concat([df2020, df2019, df2018, df2017, df2016], ignore_index=True)"
   ]
  },
  {
   "cell_type": "code",
   "execution_count": 127,
   "id": "c03aaf3c",
   "metadata": {},
   "outputs": [],
   "source": [
    "vaxfile = pd.concat([KG2020, KG2019, KG2018, KG2017, KG2016], ignore_index=True)"
   ]
  },
  {
   "cell_type": "markdown",
   "id": "019194e0",
   "metadata": {},
   "source": [
    "# Totally optional practice from here\n",
    "Notice anything about our percent mmr field and enrolled fields? Their dtype are not numbers, they've got extra characters and percent MMR isn't even a percent. \n",
    "\n",
    "This is because schools that have fewer than 20 students will have their numbers masked. It's common for state health departments, or education departments, to omit numbers for small groups because, they argue, you could somehow identify someone if they gave the numbers. In this case, the state asserts that you could identify a student in a school with fewer than 20 kids if they gave out vax percentages.  \n",
    "\n",
    "So, under 'enrolled', you'll find <20 and under vaccinated you'll find NaN. \n",
    "\n",
    "\n",
    "What a headache!\n",
    "\n",
    "Let's fix this. \n",
    "\n",
    "EXTRACTING NUMBERS FROM STRINGS WILL NOT BE ON THE EXAM! NOR WILL EXCLUDING NULL VALUES!"
   ]
  },
  {
   "cell_type": "code",
   "execution_count": 128,
   "id": "7fe68538",
   "metadata": {},
   "outputs": [],
   "source": [
    "#This will create new fields in which we've isolated the numbers from the string. (Strip the percent signs and the <)\n",
    "vaxfile['vaxnumber'] = vaxfile.vaccinated.str.extract('(\\d+)')\n",
    "vaxfile['enrollednumber'] = vaxfile.enrolled.str.extract('(\\d+)')"
   ]
  },
  {
   "cell_type": "code",
   "execution_count": 129,
   "id": "8453248d",
   "metadata": {},
   "outputs": [],
   "source": [
    "#This will create a new dataframe that does not include the NaN (which means null)\n",
    "vaxfile_1 = vaxfile[pd.notnull(vaxfile['vaxnumber'])].copy()"
   ]
  },
  {
   "cell_type": "code",
   "execution_count": 130,
   "id": "7a2c0f03",
   "metadata": {},
   "outputs": [],
   "source": [
    "#Now let's convert both vaccinated and enrolled columns to numbers\n",
    "vaxfile_1['vaxnumber'] = pd.to_numeric(vaxfile_1['vaxnumber'])\n",
    "vaxfile_1['enrollednumber'] = pd.to_numeric(vaxfile_1['enrollednumber'])"
   ]
  },
  {
   "cell_type": "code",
   "execution_count": 133,
   "id": "3a20a904",
   "metadata": {},
   "outputs": [],
   "source": [
    "#Now we will change our vaxnumber field to an actual percentage so we can multiply it by the number of enrolled kids\n",
    "vaxfile_1['vaxnumberpercent'] = vaxfile_1['vaxnumber']*.01"
   ]
  },
  {
   "cell_type": "markdown",
   "id": "099b27e3",
   "metadata": {},
   "source": [
    "# Making a chart\n",
    "Let's say you want to envision the trend over five years. Visualizing year-over-year numbers can often help tell a better story than if you just look at the numbers in front of you. \n",
    "\n",
    "The question: \n",
    "\n",
    "Has the vaccination rate among kindergartens risen or changed at all in five years? \\\n",
    "\n",
    "THIS WILL NOT BE ON THE EXAM!"
   ]
  },
  {
   "cell_type": "code",
   "execution_count": 139,
   "id": "24db62f2",
   "metadata": {},
   "outputs": [],
   "source": [
    "#Calculate the number of vaccinated kids \n",
    "vaxfile_1['vaxxed'] = vaxfile_1['enrollednumber']*vaxfile_1['vaxnumberpercent']"
   ]
  },
  {
   "cell_type": "code",
   "execution_count": 143,
   "id": "a6577c9d",
   "metadata": {},
   "outputs": [],
   "source": [
    "#Sum the number of vaxxed kids, group by year\n",
    "forchart = vaxfile_1.groupby('year')['vaxxed'].sum().to_frame(name = 'vaxxed').reset_index()\n",
    "#Sum the number of total kids, group by year\n",
    "forchart2 = vaxfile_1.groupby('year')['enrollednumber'].sum().to_frame(name = 'enrolled').reset_index()\n",
    "#merge the two groupbys\n",
    "forchart3 = pd.merge(forchart, forchart2)\n",
    "#Calcuate a rate\n",
    "forchart3['percentvaxxed'] = forchart3['vaxxed']/forchart3['enrolled']"
   ]
  },
  {
   "cell_type": "code",
   "execution_count": 145,
   "id": "22468162",
   "metadata": {},
   "outputs": [
    {
     "data": {
      "text/html": [
       "<div>\n",
       "<style scoped>\n",
       "    .dataframe tbody tr th:only-of-type {\n",
       "        vertical-align: middle;\n",
       "    }\n",
       "\n",
       "    .dataframe tbody tr th {\n",
       "        vertical-align: top;\n",
       "    }\n",
       "\n",
       "    .dataframe thead th {\n",
       "        text-align: right;\n",
       "    }\n",
       "</style>\n",
       "<table border=\"1\" class=\"dataframe\">\n",
       "  <thead>\n",
       "    <tr style=\"text-align: right;\">\n",
       "      <th></th>\n",
       "      <th>year</th>\n",
       "      <th>vaxxed</th>\n",
       "      <th>enrolled</th>\n",
       "      <th>percentvaxxed</th>\n",
       "    </tr>\n",
       "  </thead>\n",
       "  <tbody>\n",
       "    <tr>\n",
       "      <th>0</th>\n",
       "      <td>2016</td>\n",
       "      <td>75708.13</td>\n",
       "      <td>80677</td>\n",
       "      <td>0.938410</td>\n",
       "    </tr>\n",
       "    <tr>\n",
       "      <th>1</th>\n",
       "      <td>2017</td>\n",
       "      <td>74213.03</td>\n",
       "      <td>79061</td>\n",
       "      <td>0.938681</td>\n",
       "    </tr>\n",
       "    <tr>\n",
       "      <th>2</th>\n",
       "      <td>2018</td>\n",
       "      <td>72690.92</td>\n",
       "      <td>77968</td>\n",
       "      <td>0.932317</td>\n",
       "    </tr>\n",
       "    <tr>\n",
       "      <th>3</th>\n",
       "      <td>2019</td>\n",
       "      <td>82151.31</td>\n",
       "      <td>88043</td>\n",
       "      <td>0.933082</td>\n",
       "    </tr>\n",
       "    <tr>\n",
       "      <th>4</th>\n",
       "      <td>2020</td>\n",
       "      <td>63447.66</td>\n",
       "      <td>69135</td>\n",
       "      <td>0.917736</td>\n",
       "    </tr>\n",
       "  </tbody>\n",
       "</table>\n",
       "</div>"
      ],
      "text/plain": [
       "   year    vaxxed  enrolled  percentvaxxed\n",
       "0  2016  75708.13     80677       0.938410\n",
       "1  2017  74213.03     79061       0.938681\n",
       "2  2018  72690.92     77968       0.932317\n",
       "3  2019  82151.31     88043       0.933082\n",
       "4  2020  63447.66     69135       0.917736"
      ]
     },
     "execution_count": 145,
     "metadata": {},
     "output_type": "execute_result"
    }
   ],
   "source": [
    "forchart3.head()"
   ]
  },
  {
   "cell_type": "code",
   "execution_count": 146,
   "id": "280db7d5",
   "metadata": {},
   "outputs": [],
   "source": [
    "#import matplotlib. This is a library that allows you to do charts. \n",
    "\n",
    "import matplotlib.pyplot as plt"
   ]
  },
  {
   "cell_type": "code",
   "execution_count": 147,
   "id": "291ebaa0",
   "metadata": {},
   "outputs": [
    {
     "data": {
      "image/png": "[encoded data removed]",
      "text/plain": [
       "<Figure size 432x288 with 1 Axes>"
      ]
     },
     "metadata": {
      "needs_background": "light"
     },
     "output_type": "display_data"
    }
   ],
   "source": [
    "#chart this group by. \n",
    "forchart3.plot(x='year', y='percentvaxxed')\n",
    "plt.show()"
   ]
  }
 ],
 "metadata": {
  "kernelspec": {
   "display_name": "Python 3",
   "language": "python",
   "name": "python3"
  },
  "language_info": {
   "codemirror_mode": {
    "name": "ipython",
    "version": 3
   },
   "file_extension": ".py",
   "mimetype": "text/x-python",
   "name": "python",
   "nbconvert_exporter": "python",
   "pygments_lexer": "ipython3",
   "version": "3.8.8"
  }
 },
 "nbformat": 4,
 "nbformat_minor": 5
}
