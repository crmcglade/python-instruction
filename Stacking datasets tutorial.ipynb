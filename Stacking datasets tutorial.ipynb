{
 "cells": [
  {
   "cell_type": "markdown",
   "id": "9f4a8719",
   "metadata": {},
   "source": [
    "# How to combine bunch of different datasets containing the same variables"
   ]
  },
  {
   "cell_type": "code",
   "execution_count": 33,
   "id": "88d1a3fb",
   "metadata": {},
   "outputs": [],
   "source": [
    "KG2020 = pd.read_csv('KG 2020.csv')\n",
    "KG2019 = pd.read_csv('KG 2019.csv')\n",
    "KG2018 = pd.read_csv('KG 2018.csv')\n",
    "KG2017 = pd.read_csv('KG 2017.csv')\n",
    "KG2016 = pd.read_csv('KG 2016.csv')"
   ]
  },
  {
   "cell_type": "code",
   "execution_count": 43,
   "id": "1b15e136",
   "metadata": {},
   "outputs": [],
   "source": [
    "pd.set_option('display.max_columns', None)"
   ]
  },
  {
   "cell_type": "markdown",
   "id": "ed97af41",
   "metadata": {},
   "source": [
    "# First, check to see how many columns you have in each. \n",
    "You'll notice that one of them has two extra columns. "
   ]
  },
  {
   "cell_type": "code",
   "execution_count": null,
   "id": "038e01da",
   "metadata": {},
   "outputs": [],
   "source": []
  },
  {
   "cell_type": "markdown",
   "id": "63f3a2a6",
   "metadata": {},
   "source": [
    "# Let's take a look at the column headers to see what's going on. \n",
    "There are so many columns here, and the names are so rough, that it's hard to tell what columns are extra in the dataframe with 29 columns. Never fear, there's a proactive way to handle this. This is a good example for deciding what columns you want, and disregarding the ones you don't.\n",
    "\n",
    "Let's say we just want the School, School Type, Zip, County, Enrolled Students and the Percent Immunized for MMR. (Measles, Mumps and Rubella)\n",
    "\n",
    "Below, create a dataframe that is only those columns from KG2020.\n",
    "\n",
    "We haven't done this in class yet, but go ahead and put .copy() at the end of your double brackets. I will explain in class why. \n",
    "\n",
    "Like so: \n",
    "\n",
    "df = df[['example', 'example']].copy()"
   ]
  },
  {
   "cell_type": "code",
   "execution_count": 57,
   "id": "695fe465",
   "metadata": {},
   "outputs": [],
   "source": []
  },
  {
   "cell_type": "markdown",
   "id": "b2d7a6a0",
   "metadata": {},
   "source": [
    "Now try it with 2019. (And don't forget to end it with .copy()"
   ]
  },
  {
   "cell_type": "code",
   "execution_count": null,
   "id": "10161844",
   "metadata": {},
   "outputs": [],
   "source": []
  },
  {
   "cell_type": "markdown",
   "id": "2f53fa51",
   "metadata": {},
   "source": [
    "# Notice a problem?\n",
    "When we stack these dataframes into one, we won't know what year each row is from. \n",
    "\n",
    "Let's fix that. \n",
    "\n",
    "Add a 'year' column to each of your dataframes indicating to what year it belongs. \n",
    "\n",
    "Hint: df['YEAR'] = 'WHATEVER YEAR IT IS'"
   ]
  },
  {
   "cell_type": "code",
   "execution_count": null,
   "id": "8be68f4f",
   "metadata": {},
   "outputs": [],
   "source": []
  },
  {
   "cell_type": "markdown",
   "id": "44a9e63e",
   "metadata": {},
   "source": [
    "Now that you've added a year to each dataframe, go ahead and keep creating new dataframes for each one that consists of only the variables we chose: School, School Type, Zip, County, Enrolled Students and the Percent Immunized for MMR.\n",
    "\n",
    "Keep in mind that the column headers may not be called the same thing in each dataframe, and you may have to run df.keys() on each to make sure you're calling for the right things. \n",
    "\n",
    "Hint: for 2016, it will be:\n",
    "\n",
    "df2016 = KG2016[['YEAR', 'SCHOOL_NAME', 'SCHOOL_TYPE', 'ZIP', 'COUNTY', 'ENROLLED', 'PCT_IMMUNE_MMR']]\n",
    "\n",
    "*Note the year field is the one that you created\n",
    "\n",
    "*You will need to do this again for 2020 and 2019, and include year."
   ]
  },
  {
   "cell_type": "markdown",
   "id": "ee44d38f",
   "metadata": {},
   "source": [
    "# Now let's rename our columns, so they are the same in each dataset. \n",
    "You only have to write the names out once, and then pretty much copy and paste. Do this for each of your five dataframes. \n",
    "\n",
    "Hint: \n",
    "\n",
    "df2016.columns = ['year', 'school', 'type', 'zip', 'county', 'enrolled', 'vaccinated']"
   ]
  },
  {
   "cell_type": "markdown",
   "id": "bcbfc30a",
   "metadata": {},
   "source": [
    "# And finally, concat!\n",
    "This will look something like this: \n",
    "\n",
    "df = pd.concat([df2020, df2019, df2018, df2017, df2016], ignore_index=True)"
   ]
  },
  {
   "cell_type": "code",
   "execution_count": null,
   "id": "bfddc4d3",
   "metadata": {},
   "outputs": [],
   "source": []
  },
  {
   "cell_type": "markdown",
   "id": "1f7927cf",
   "metadata": {},
   "source": [
    "# Totally optional practice from here\n",
    "Notice anything about our percent mmr field and enrolled fields? Their dtype are not numbers, they've got extra characters and percent MMR isn't even a percent.\n",
    "\n",
    "This is because schools that have fewer than 20 students will have their numbers masked. It's common for state health departments, or education departments, to omit numbers for small groups because, they argue, you could somehow identify someone if they gave the numbers. In this case, the state asserts that you could identify a student in a school with fewer than 20 kids if they gave out vax percentages.\n",
    "\n",
    "So, under 'enrolled', you'll find <20 and under vaccinated you'll find NaN.\n",
    "\n",
    "What a headache!\n",
    "\n",
    "Let's fix this. Head on over to the answers file to see how. "
   ]
  }
 ],
 "metadata": {
  "kernelspec": {
   "display_name": "Python 3",
   "language": "python",
   "name": "python3"
  },
  "language_info": {
   "codemirror_mode": {
    "name": "ipython",
    "version": 3
   },
   "file_extension": ".py",
   "mimetype": "text/x-python",
   "name": "python",
   "nbconvert_exporter": "python",
   "pygments_lexer": "ipython3",
   "version": "3.8.8"
  }
 },
 "nbformat": 4,
 "nbformat_minor": 5
}
