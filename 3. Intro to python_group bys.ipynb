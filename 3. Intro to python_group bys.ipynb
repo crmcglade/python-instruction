{
 "cells": [
  {
   "attachments": {},
   "cell_type": "markdown",
   "id": "19f8a28e",
   "metadata": {},
   "source": [
    "# A pivot table, but with less hassle!\n",
    "\n",
    "In python, we call a pivot table a ‘Group By’. \n",
    "\n",
    "You know you need one if you need to compare variables or aggregate values that are not readily available in your current data frame. For example, if you want to find out which cities and/or states have the greatest number of PPP loan recipients, you need to do a Group By. Think back to the Excel assessment: If you need to know the total number of violations each restaurant has received on all inspections combined, you need a Group By. \n",
    "\n",
    "The premise is the same as in Excel. First stop and think, what am I grouping by? In excel, you would put that column into rows. In Python, you just put it in parentheses. \n",
    "\n",
    "Next, ask yourself, what am I measuring? In Excel, that would go into values. In python, that would go into brackets. \n",
    "\n",
    "Then, rather than clicking on that little ‘i” in the values box, in Python you write the action out.\n",
    "\n",
    "Start this tutorial by importing the ppp loan data you've used for the last two tutorials. Remember, you'll need to assign it a name. (And you'll also have to tell the computer you're using pandas!)"
   ]
  },
  {
   "cell_type": "code",
   "execution_count": null,
   "id": "c94ab994",
   "metadata": {},
   "outputs": [],
   "source": []
  },
  {
   "cell_type": "code",
   "execution_count": null,
   "id": "a2476e9e",
   "metadata": {},
   "outputs": [],
   "source": []
  },
  {
   "cell_type": "markdown",
   "id": "6db6b6c7",
   "metadata": {},
   "source": [
    "# First let's try something familiar\n",
    "Say you want to know how many loans were received in Arizona. Write a filter to create a subset of your data that is only Arizona loans."
   ]
  },
  {
   "cell_type": "code",
   "execution_count": null,
   "id": "feba72ec",
   "metadata": {},
   "outputs": [],
   "source": []
  },
  {
   "cell_type": "markdown",
   "id": "8248cee5",
   "metadata": {},
   "source": [
    "Now, get a count on the number of rows, which tells you the number of loans. "
   ]
  },
  {
   "cell_type": "code",
   "execution_count": null,
   "id": "df0eac4f",
   "metadata": {},
   "outputs": [],
   "source": []
  },
  {
   "cell_type": "markdown",
   "id": "989da645",
   "metadata": {},
   "source": [
    "You should have gotten 12,597. Now let's compare states.\n",
    "\n",
    "Your GroupBy is going to look like this. \n",
    "\n",
    "loansbystate = df.groupby('BorrowerState')['BorrowerState'].count().to_frame(name = 'loans').reset_index()\n",
    "\n",
    "From our past work in Excel, this would be like dropping narcan into rows, narcan into values and then letting the pivot table produce a count. \n",
    "\n",
    "This is how it works: \n",
    "\n",
    "<b>loansbystate</b> is the name of your new variable. In this case, it's the name of your new table (aka a pivot table). \n",
    "\n",
    "<b>df</b> is the name of the variable (in this case, a dataframe) that you want to do the analysis on. We're telling the computer, 'hey, I want you to do a thing on the dataframe I called df.'\n",
    "\n",
    "<b>.groupby</b> is your command. Here you're telling the computer that the thing you want to do with 'df' is to group things and do some math. It will next want to know what column you're grouping by, what column you're going to do math on and then what kind of math you want to do. \n",
    "\n",
    "<b>('BorrowerState')</b> is the column you're grouping by. You're telling the computer to make a bucket for each state.\n",
    "\n",
    "<b>['BorrowerState']</b> is the column that your going to do math on. Think of this as the column you would drop into values if you were making a pivot table. \n",
    "\n",
    "<b>.count()</b> tells the computer that you want to count the number of times each state appears in the data. This is the only kind of math you could do on the BorrowerState column because we're working with text and the computer can only count the number of times that any particular unique text appears. \n",
    "\n",
    "Go ahead and try the following code in the line below:\n",
    "\n",
    "loansbystate = df.groupby('BorrowerState')['BorrowerState'].count()\n",
    "\n",
    "loansbystate.head()"
   ]
  },
  {
   "cell_type": "code",
   "execution_count": null,
   "id": "1aa49623",
   "metadata": {},
   "outputs": [],
   "source": []
  },
  {
   "cell_type": "markdown",
   "id": "8e2dc131",
   "metadata": {},
   "source": [
    "We've made a groupby! Great! You should see that Alaska got 2,076 and Alabama got 9,025. And there's that 12,597 number for AZ. We're on the right track. But let's not stop here. \n",
    "\n",
    "Notice how that doesn't look like a clean table? The top line offers the column header \"BorrowerState\" but there is no column header for the count. \n",
    "\n",
    "That's because we haven't told the computer that we want to turn this groupby into table. You can't do much with this groupby, including but not limited to: sorting the count highest to lowest, adding new columns or joining it to other tables. \n",
    "\n",
    "So here's how we tell the computer to turn this groupby into its own table. \n",
    "\n",
    "<b>.to_frame</b> tells the computer that you want to make a dataframe out of this groupby\n",
    "\n",
    "<b>name='loans')</b> tells the computer that your second column - the one that counts the number of times a state appears - is called loans. You can call it anything you want. \n",
    "\n",
    "<b>.reset_index()</b> gives your table its own, brand new index. Notice all those numbers running down the side of every data frame you look at? That's the computer just assigning a place for each row of data. It counts up starting at 0. \n",
    "\n",
    "Try running the code below in the next cell, and then look at the top five rows. \n",
    "\n",
    "loansbystate = df.groupby('BorrowerState')['BorrowerState'].count().to_frame(name = 'loans').reset_index()"
   ]
  },
  {
   "cell_type": "code",
   "execution_count": null,
   "id": "ccd7eac2",
   "metadata": {},
   "outputs": [],
   "source": []
  },
  {
   "cell_type": "markdown",
   "id": "13769fa9",
   "metadata": {},
   "source": [
    "Now we're talking! We can treat this table as we would any other dataframe now. \n",
    "\n",
    "Using what you've already learned on how to sort, sort your new table on the number of loans per state - highest to lowest. "
   ]
  },
  {
   "cell_type": "code",
   "execution_count": null,
   "id": "694308ea",
   "metadata": {},
   "outputs": [],
   "source": []
  },
  {
   "cell_type": "markdown",
   "id": "eb0c8def",
   "metadata": {},
   "source": [
    "To determine what share of the total loans each state received, we'll be adding a new column to our table. \n",
    "\n",
    "Let's do this in two steps. \n",
    "\n",
    "1. Find out what the total number of loans is. \n",
    "2. Tell the computer to divide the number of loans in each bucket by that number. \n",
    "\n",
    "For step one, run a sum on your loans column. \n",
    "\n",
    "loansbystate.loans.sum()"
   ]
  },
  {
   "cell_type": "code",
   "execution_count": null,
   "id": "f690cab9",
   "metadata": {},
   "outputs": [],
   "source": []
  },
  {
   "cell_type": "markdown",
   "id": "52aa3eb3",
   "metadata": {},
   "source": [
    "You should get 766,483.\n",
    "\n",
    "For the second step, we're going to create a new column that divides each row by 766,483. Copy and paste the following code into the next line and then take a look at your top five rows. \n",
    "\n",
    "loansbystate['percent_of_total'] = loansbystate['loans']/766483"
   ]
  },
  {
   "cell_type": "code",
   "execution_count": 16,
   "id": "9794f974",
   "metadata": {},
   "outputs": [],
   "source": []
  },
  {
   "cell_type": "markdown",
   "id": "ecce86cd",
   "metadata": {},
   "source": [
    "Here's how the code works. \n",
    "\n",
    "<b> loansbystate['percent_of_total'] = </b> tells the computer that in the dataframe loansbystate, you are inserting a column called percent_of_total. Everything after the equal sign is what goes into that new column. \n",
    "\n",
    "<b> loansbystate['loans'] </b> tells the computer that it needs to use the column 'loans' within the dataframe loansbystate and .. \n",
    "\n",
    "<b> /766483 </b> divide everything in that column by 766,483."
   ]
  },
  {
   "attachments": {},
   "cell_type": "markdown",
   "id": "2bbee6f0",
   "metadata": {},
   "source": [
    "# Now try a groupby on your own. \n",
    "In your first groupby, we counted the number of times each state appeared in the database. We achieved that with a .count() command. \n",
    "\n",
    "You can switch .count() with a lot of things, but let's start with the most common. \n",
    "\n",
    ".sum()\n",
    "\n",
    ".max()\n",
    "\n",
    ".min()\n",
    "\n",
    ".mean()\n",
    "\n",
    ".median()\n",
    "\n",
    "Write a groupby in the cell below sums the amount of money that has been received in each state. This will look exactly like your count groupby except:\n",
    "\n",
    "-You will put a different column in the brackets. \n",
    "\n",
    "-You will replace .count() with .sum()\n",
    "\n",
    "-You may want to change the name of the second column in your new table"
   ]
  },
  {
   "cell_type": "code",
   "execution_count": null,
   "id": "83da9d23",
   "metadata": {},
   "outputs": [],
   "source": []
  },
  {
   "cell_type": "markdown",
   "id": "a1ff1e45",
   "metadata": {},
   "source": [
    "You will notice that if you run df.head(), the computer has decided to give you the scientific notation version of the number. It does this when it is dealing with massive numbers. \n",
    "\n",
    "The computer lacks the self awareness to know how annoying this is, so we have to tell it every time to let us see the actual number. \n",
    "\n",
    "You can run this code at any point during your analysis and it'll stop that nonsense for any future math you do in that particular notebook.\n",
    "\n",
    "pd.options.display.float_format = '{:.0f}'.format\n",
    "\n",
    "Once you run that, try re-running your sum groupby to see the change. \n"
   ]
  },
  {
   "cell_type": "code",
   "execution_count": null,
   "id": "95dc19fb",
   "metadata": {},
   "outputs": [],
   "source": []
  },
  {
   "cell_type": "markdown",
   "id": "5fa66c33",
   "metadata": {},
   "source": [
    "# More practice\n",
    "You've made two groupbys. Try answering these questions. \n",
    "\n",
    "1. Which state had the largest number of jobs reported saved?\n",
    "2. CD stands for Congressional District. In Arizona, which congressional district received the largest share of total loan dollars? (You will want to make a new dataframe by filtering the original database for only Arizona loans.)\n",
    "3. Try answering a question of your own!"
   ]
  },
  {
   "cell_type": "code",
   "execution_count": null,
   "id": "8fa780c9",
   "metadata": {},
   "outputs": [],
   "source": []
  }
 ],
 "metadata": {
  "kernelspec": {
   "display_name": "Python 3",
   "language": "python",
   "name": "python3"
  },
  "language_info": {
   "codemirror_mode": {
    "name": "ipython",
    "version": 3
   },
   "file_extension": ".py",
   "mimetype": "text/x-python",
   "name": "python",
   "nbconvert_exporter": "python",
   "pygments_lexer": "ipython3",
   "version": "3.8.8"
  }
 },
 "nbformat": 4,
 "nbformat_minor": 5
}
