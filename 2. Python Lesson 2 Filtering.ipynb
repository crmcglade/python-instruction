{
 "cells": [
  {
   "cell_type": "markdown",
   "id": "1159bab1",
   "metadata": {},
   "source": [
    "# Filtering\n",
    "\n",
    "Python has a lot of very powerful filtering options. We will not cover them all, but we will get to the ones you will use most commonly.\n",
    "\n",
    "Continue working the PPP Loan data you used in the first tutorial. \n",
    "\n",
    "In the cells below, under the #notes take the first few steps you need to start analyzing a dataset.\n",
    "\n",
    "Remember, each time you run a filter, and assign it to a variable, you are essentially creating a new dataframe. In Excel, the equivalent would be putting a filter on, copying the contents of the filter and pasting it into a new sheet."
   ]
  },
  {
   "cell_type": "code",
   "execution_count": 2,
   "id": "acb9deed",
   "metadata": {},
   "outputs": [],
   "source": [
    "#import pandas\n"
   ]
  },
  {
   "cell_type": "code",
   "execution_count": 4,
   "id": "5defaa0a",
   "metadata": {},
   "outputs": [],
   "source": [
    "#read the PPP loans file and assign it a variable\n"
   ]
  },
  {
   "cell_type": "markdown",
   "id": "bd1526b1",
   "metadata": {},
   "source": [
    "# Text Filters \n",
    "\n",
    "Before you start filtering text, it is important that everything is either all lower case or all upper case. Python is case sensitive, so if you’re looking for “PHOENIX” you will miss values that say “phoenix”. \n",
    "\n",
    "Get in the habit of using code like this before you filter: \n",
    "\n",
    "df[\"BorrowerCity\"]= df[\"BorrowerCity\"].str.lower()\n",
    "\n",
    "This, like when we changed data types, overwrites the original column BorrowerCity with all lower-case values.\n",
    "\n",
    "It is also good to strip potential spaces at the beginning or ends of words. \n",
    "\n",
    "To do that, use the above code, but replace .str.lower() with .str.rstrip() to strip space on the right and .str.lstrip() to strip spaces on the left."
   ]
  },
  {
   "cell_type": "code",
   "execution_count": null,
   "id": "471983d7",
   "metadata": {},
   "outputs": [],
   "source": []
  },
  {
   "cell_type": "markdown",
   "id": "2fcf7d30",
   "metadata": {},
   "source": [
    "If you want a perfect match, you will use == \n",
    "\n",
    "If you want to find any value that contains a word you’re looking for, you’ll use a str.contains command. \n",
    "\n",
    "Let’s see what that looks like. \n",
    "\n",
    "In the cell below, create a new dataframe where the city is exactly ‘phoenix’ \n",
    "\n",
    "phx = df[df['BorrowerCity'] == 'phoenix']"
   ]
  },
  {
   "cell_type": "code",
   "execution_count": null,
   "id": "379f6e1a",
   "metadata": {},
   "outputs": [],
   "source": []
  },
  {
   "cell_type": "markdown",
   "id": "951a0d1d",
   "metadata": {},
   "source": [
    "Now create a new dataframe where the city contains the word phoenix \n",
    "\n",
    "phx2 =  df[df['BorrowerCity'].str.contains('phoenix', na=False)] \n",
    "\n",
    "(na=False is just telling the computer to ignore the null values)"
   ]
  },
  {
   "cell_type": "code",
   "execution_count": null,
   "id": "3870b182",
   "metadata": {},
   "outputs": [],
   "source": []
  },
  {
   "cell_type": "markdown",
   "id": "8718c624",
   "metadata": {},
   "source": [
    "But what if we want more than one city? We separate the two commands with what is called a pipe. This thing: | \n",
    "\n",
    "df2 = df[(df['BorrowerCity'] == 'phoenix') | (df['BorrowerCity'] == 'scottsdale')]"
   ]
  },
  {
   "cell_type": "code",
   "execution_count": null,
   "id": "b780cc56",
   "metadata": {},
   "outputs": [],
   "source": []
  },
  {
   "cell_type": "markdown",
   "id": "dd38b37a",
   "metadata": {},
   "source": [
    "It gets a little tricker when you need multiple values based on a contains filter. \n",
    "\n",
    "First, we start by making a list, and giving it a name. \n",
    "\n",
    "cities = ['phoenix', 'scottsdale', 'mesa']"
   ]
  },
  {
   "cell_type": "code",
   "execution_count": null,
   "id": "7bfe9296",
   "metadata": {},
   "outputs": [],
   "source": []
  },
  {
   "cell_type": "markdown",
   "id": "056778a3",
   "metadata": {},
   "source": [
    "Then we make the filter. \n",
    "\n",
    "citiesdf =  df[df['BorrowerCity'].str.contains('|'.join(cities)) == True]"
   ]
  },
  {
   "cell_type": "code",
   "execution_count": null,
   "id": "61705414",
   "metadata": {},
   "outputs": [],
   "source": []
  },
  {
   "cell_type": "markdown",
   "id": "7b7d3dc9",
   "metadata": {},
   "source": [
    "If you change the end to ==False, it will EXCLUDE those cities. That will come in handy, too. "
   ]
  },
  {
   "cell_type": "code",
   "execution_count": null,
   "id": "1d29165e",
   "metadata": {},
   "outputs": [],
   "source": []
  },
  {
   "cell_type": "markdown",
   "id": "a004b9f2",
   "metadata": {},
   "source": [
    "You can also write a filter based on multiple columns. Let’s say we want to know rows where the owner is a woman AND a veteran. \n",
    "\n",
    "df4 = df[(df['Gender'] == 'Female Owned') & (df['Veteran'] == 'Veteran')]"
   ]
  },
  {
   "cell_type": "code",
   "execution_count": null,
   "id": "8716692e",
   "metadata": {},
   "outputs": [],
   "source": []
  },
  {
   "cell_type": "markdown",
   "id": "d4722e03",
   "metadata": {},
   "source": [
    "Or, what if we want rows where the person is EITHER Female OR a Veteran? You use a pipe instead of an &\n",
    "\n",
    "df4 = df[(df['Gender'] == 'Female Owned') | (df['Veteran'] == 'Veteran')]"
   ]
  },
  {
   "cell_type": "code",
   "execution_count": null,
   "id": "340af360",
   "metadata": {},
   "outputs": [],
   "source": []
  },
  {
   "attachments": {},
   "cell_type": "markdown",
   "id": "00dc2412",
   "metadata": {},
   "source": [
    "# Date Filters\n",
    "Date filters work very similarly to number filters, but make sure you’ve converted your dates to actual dates before you go running filters on them. If you forget, the filter may not work or it may give you inaccurate results!\n",
    "\n",
    "Try these filters in the empty cells below.\n",
    "\n",
    "When you need to select for data between two dates:\n",
    "\n",
    "daterange = df[df.DateApproved.between('04/10/2020', '04/12/2020')]"
   ]
  },
  {
   "cell_type": "code",
   "execution_count": null,
   "id": "18101e20",
   "metadata": {},
   "outputs": [],
   "source": []
  },
  {
   "attachments": {},
   "cell_type": "markdown",
   "id": "54d0069b",
   "metadata": {},
   "source": [
    "-After a certain date:\n",
    "\n",
    "AfterApril11 = df[df['DateApproved'] > '04/11/2020']\n",
    "\n",
    "-Before a certain date:\n",
    "\n",
    "BeforeApril11 = df[df['DateApproved'] < '04/11/2020']\n",
    "\n",
    "If you want to include the date you’re specifying, much like in Excel, you’d just write >= or =<\n",
    "\n",
    "-An exact date:\n",
    "\n",
    "April11 = df[df['DateApproved'] == '04/11/2020']\n",
    "\n",
    "And if you want to exclude a date, != means DOES NOT EQUAL"
   ]
  },
  {
   "cell_type": "code",
   "execution_count": null,
   "id": "3c66a738",
   "metadata": {},
   "outputs": [],
   "source": []
  },
  {
   "cell_type": "code",
   "execution_count": null,
   "id": "2f9297b8",
   "metadata": {},
   "outputs": [],
   "source": []
  },
  {
   "cell_type": "code",
   "execution_count": null,
   "id": "8c35a275",
   "metadata": {},
   "outputs": [],
   "source": []
  },
  {
   "cell_type": "code",
   "execution_count": null,
   "id": "7bb14287",
   "metadata": {},
   "outputs": [],
   "source": []
  },
  {
   "attachments": {},
   "cell_type": "markdown",
   "id": "8c0f6d9f",
   "metadata": {},
   "source": [
    "# Numbers \n",
    "\n",
    "With numbers, the biggest difference is that we don’t use quotes. \n",
    "\n",
    "Jobs = phx2[phx2['JobsReported'] == 100] #this gives you anything that equals 100 \n",
    "\n",
    "Jobs2 = phx2[phx2['JobsReported'] >= 100] #this is equal or greater than 100\n",
    "\n",
    "Jobs3 = phx2[phx2['JobsReported'] <= 100] #less than or equal to 100\n",
    "\n",
    "Note this code works off our phoenix filter. If you change phx2 to df, it will work off the original data. \n",
    "\n",
    "For practice, make your own filters based on what you’re interested in. "
   ]
  },
  {
   "cell_type": "code",
   "execution_count": null,
   "id": "09a94c59",
   "metadata": {},
   "outputs": [],
   "source": []
  }
 ],
 "metadata": {
  "kernelspec": {
   "display_name": "Python 3",
   "language": "python",
   "name": "python3"
  },
  "language_info": {
   "codemirror_mode": {
    "name": "ipython",
    "version": 3
   },
   "file_extension": ".py",
   "mimetype": "text/x-python",
   "name": "python",
   "nbconvert_exporter": "python",
   "pygments_lexer": "ipython3",
   "version": "3.8.8"
  }
 },
 "nbformat": 4,
 "nbformat_minor": 5
}
